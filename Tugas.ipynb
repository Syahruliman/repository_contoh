{
 "cells": [
  {
   "cell_type": "code",
   "execution_count": 5,
   "id": "743e57ca",
   "metadata": {},
   "outputs": [
    {
     "name": "stdout",
     "output_type": "stream",
     "text": [
      "Tentukan jumlah email penerima:1\n",
      "Masukan email pengirim: syahrul4717@gmail.com\n",
      "Masukan password pengirim:········\n",
      "masukan subject:python\n",
      "Masukan isi email:akakakakakakakakaak\n",
      "Pengiriman ke 1\n",
      "Masukan email penerima: syahrul_smt@yahoo.com\n",
      "pengiriman email ke- 1 berhasil\n",
      "Terima Kasih sampai jumpa\n"
     ]
    }
   ],
   "source": [
    "# Sumber : https://www.pythonindo.com/cara-mengirim-email-menggunakan-python\n",
    "\n",
    "import smtplib                                   # Mengimport modul smtplib untuk mengirim email\n",
    "import getpass                                   # mengimport modul getpass untuk menghiden password\n",
    "from email.mime.multipart import MIMEMultipart   # mengkodekan ['Dari'], ['Ke'], dan ['Subjek']\n",
    "from email.mime.text import MIMEText             # mengkodekan isi pesan saja tanpa lampiran\n",
    "\n",
    "alamat_email = []                                # mendefinisikan variabel alamat_email\n",
    "i = 1                                            # mendefinisikan variabel i dimulai dengan angka 1\n",
    "\n",
    "def kirim_email():\n",
    "    fromaddr = pengirim\n",
    "    toaddr = penerima\n",
    "    msg = MIMEMultipart()\n",
    "    msg['From'] = fromaddr                        # mengkodekan email pengirim\n",
    "    msg['To'] = toaddr                            # mengkodekan email penerima\n",
    "    msg['Subject'] = subject_email                # mengkodekan subject email yang dikirim\n",
    " \n",
    "    body = body_email                              # isi email yang dikirim\n",
    "    msg.attach(MIMEText(body, 'plain'))\n",
    "    server = smtplib.SMTP('smtp.gmail.com', 587)   # perintah untuk mengaktifkan server gmail dengan perintah smtp dan 587 adalah alamat port gmail\n",
    "    server.starttls()                              # untuk mengaktifkan pengaman email\n",
    "    server.login(fromaddr, password_email)         # untuk login email pengirim \n",
    "    text = msg.as_string()                         # untuk mengkodekan bahwa pesan dalam bentuk teks\n",
    "    server.sendmail(fromaddr, [toaddr], text)      # perintah untuk mengirimkan pesan email ke penerima dan penerima dlm bentuk list kemungkinan kita memasukan email tujuan lebih dari satu dan parameter ke-3 adalah pesan\n",
    "    server.quit()                                  # perintah untuk menutup kembali server gmail\n",
    "    alamat_email.append(penerima)\n",
    "\n",
    "        \n",
    "def create_email():                                 # function untuk menuliskan daftar email penerima dalam file txt\n",
    "    daftar_email = open('Daftar email.txt', 'a')    # menuliskan daftar email pada file txt (Daftar email) dan dituliskan pada bagian bawah\n",
    "    for x in range(len(alamat_email)):\n",
    "        daftar_email.write('{}\\n'.format(alamat_email[x]))   # menuliskan alamat email penerima pada file txt (Daftar email)\n",
    "    daftar_email.close()                                                   # menutup kembali file txt yang sudah dibuka\n",
    "    \n",
    "while True:                                                         # while True disini tujuan adalah supaya variabel N hanya menerima angka integer\n",
    "    try:\n",
    "        N = int(input('Tentukan jumlah email penerima:'))                   # menentukan jumlah email penerima\n",
    "    except:\n",
    "        print('Masukkan angka saja!')\n",
    "    else:\n",
    "        \n",
    "        pengirim = input('Masukan email pengirim: ')                        # memasukan alamat email pengirim\n",
    "        password_email = getpass.getpass('Masukan password pengirim:')      # memasukan password email pengirim (password dihiden)\n",
    "        subject_email = input('masukan subject:')                           # memasukan subject email yang dikirim\n",
    "        body_email = input('Masukan isi email:')                            # memasukan isi email yang dikirim\n",
    "        \n",
    "        while i <= N:\n",
    "            print('Pengiriman ke {}'.format(i))\n",
    "            penerima = input('Masukan email penerima: ')\n",
    "            kirim_email()                                                   # memanggil function kirim_email\n",
    "            print('pengiriman email ke- {} berhasil'.format(i))\n",
    "            i += 1\n",
    "    \n",
    "            create_email()                                                  # memanggil function create_email\n",
    "        \n",
    "        if i >= N:                                                          # perintah utk menghentikan program\n",
    "            print('Terima Kasih sampai jumpa')\n",
    "            break\n",
    "    \n",
    "    "
   ]
  }
 ],
 "metadata": {
  "kernelspec": {
   "display_name": "Python 3",
   "language": "python",
   "name": "python3"
  },
  "language_info": {
   "codemirror_mode": {
    "name": "ipython",
    "version": 3
   },
   "file_extension": ".py",
   "mimetype": "text/x-python",
   "name": "python",
   "nbconvert_exporter": "python",
   "pygments_lexer": "ipython3",
   "version": "3.7.10"
  }
 },
 "nbformat": 4,
 "nbformat_minor": 5
}
